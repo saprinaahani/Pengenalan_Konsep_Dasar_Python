{
 "cells": [
  {
   "cell_type": "markdown",
   "id": "df39d78b",
   "metadata": {},
   "source": [
    "# Nama : Saprina Hani Haqyah\n",
    "# NIM : 225150309111004"
   ]
  },
  {
   "cell_type": "code",
   "execution_count": null,
   "id": "dc4fe91e",
   "metadata": {},
   "outputs": [],
   "source": [
    "# Meminta pengguna memasukkan dua angka\n",
    "angka1 = float(input(\"Masukkan angka pertama: \"))\n",
    "angka2 = float(input(\"Masukkan angka kedua: \"))"
   ]
  },
  {
   "cell_type": "code",
   "execution_count": 2,
   "id": "65d46cfa",
   "metadata": {},
   "outputs": [],
   "source": [
    "# Melakukan operasi aritmatika\n",
    "penjumlahan = angka1 + angka2\n",
    "pengurangan = angka1 - angka2\n",
    "perkalian = angka1 * angka2\n",
    "pembagian = angka1 / angka2"
   ]
  },
  {
   "cell_type": "code",
   "execution_count": 3,
   "id": "a29bec60",
   "metadata": {},
   "outputs": [
    {
     "name": "stdout",
     "output_type": "stream",
     "text": [
      "Hasil penjumlahan: 33.0\n",
      "Hasil pengurangan: 7.0\n",
      "Hasil perkalian: 260.0\n",
      "Hasil pembagian: 1.5384615384615385\n"
     ]
    }
   ],
   "source": [
    "# Menampilkan hasil operasi\n",
    "print(\"Hasil penjumlahan:\", penjumlahan)\n",
    "print(\"Hasil pengurangan:\", pengurangan)\n",
    "print(\"Hasil perkalian:\", perkalian)\n",
    "print(\"Hasil pembagian:\", pembagian)"
   ]
  },
  {
   "cell_type": "code",
   "execution_count": 4,
   "id": "820e7ff8",
   "metadata": {},
   "outputs": [
    {
     "name": "stdout",
     "output_type": "stream",
     "text": [
      "20.0 lebih besar dari 13.0\n"
     ]
    }
   ],
   "source": [
    "# Melakukan operasi perbandingan\n",
    "if angka1 > angka2:\n",
    "    print(angka1, \"lebih besar dari\", angka2)\n",
    "elif angka1 < angka2:\n",
    "    print(angka1, \"lebih kecil dari\", angka2)\n",
    "else:\n",
    "    print(angka1, \"sama dengan\", angka2)"
   ]
  },
  {
   "cell_type": "code",
   "execution_count": null,
   "id": "cd052ff8",
   "metadata": {},
   "outputs": [],
   "source": []
  }
 ],
 "metadata": {
  "kernelspec": {
   "display_name": "Python 3 (ipykernel)",
   "language": "python",
   "name": "python3"
  },
  "language_info": {
   "codemirror_mode": {
    "name": "ipython",
    "version": 3
   },
   "file_extension": ".py",
   "mimetype": "text/x-python",
   "name": "python",
   "nbconvert_exporter": "python",
   "pygments_lexer": "ipython3",
   "version": "3.10.9"
  }
 },
 "nbformat": 4,
 "nbformat_minor": 5
}
